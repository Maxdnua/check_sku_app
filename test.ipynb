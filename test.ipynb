{
 "cells": [
  {
   "cell_type": "code",
   "execution_count": 2,
   "metadata": {},
   "outputs": [],
   "source": [
    "import pandas as pd"
   ]
  },
  {
   "cell_type": "code",
   "execution_count": 85,
   "metadata": {},
   "outputs": [
    {
     "data": {
      "text/html": [
       "<div>\n",
       "<style scoped>\n",
       "    .dataframe tbody tr th:only-of-type {\n",
       "        vertical-align: middle;\n",
       "    }\n",
       "\n",
       "    .dataframe tbody tr th {\n",
       "        vertical-align: top;\n",
       "    }\n",
       "\n",
       "    .dataframe thead th {\n",
       "        text-align: right;\n",
       "    }\n",
       "</style>\n",
       "<table border=\"1\" class=\"dataframe\">\n",
       "  <thead>\n",
       "    <tr style=\"text-align: right;\">\n",
       "      <th></th>\n",
       "      <th>number</th>\n",
       "      <th>quantity</th>\n",
       "      <th>reservedStock</th>\n",
       "      <th>stockNet</th>\n",
       "      <th>variationTag</th>\n",
       "      <th>MHD</th>\n",
       "      <th>LocationName</th>\n",
       "      <th>barcode</th>\n",
       "    </tr>\n",
       "  </thead>\n",
       "  <tbody>\n",
       "    <tr>\n",
       "      <th>0</th>\n",
       "      <td>000251a</td>\n",
       "      <td>31</td>\n",
       "      <td>1</td>\n",
       "      <td>31</td>\n",
       "      <td>Bilder 1-3, Lagerbilder, Afrika, Wandbilder, D...</td>\n",
       "      <td>2024-10-06</td>\n",
       "      <td>D/08/1</td>\n",
       "      <td>4260273216737</td>\n",
       "    </tr>\n",
       "    <tr>\n",
       "      <th>1</th>\n",
       "      <td>000251a</td>\n",
       "      <td>1</td>\n",
       "      <td>1</td>\n",
       "      <td>31</td>\n",
       "      <td>Bilder 1-3, Lagerbilder, Afrika, Wandbilder, D...</td>\n",
       "      <td>2024-11-08</td>\n",
       "      <td>D/10/1</td>\n",
       "      <td>4260273216737</td>\n",
       "    </tr>\n",
       "    <tr>\n",
       "      <th>2</th>\n",
       "      <td>002151a</td>\n",
       "      <td>5</td>\n",
       "      <td>1</td>\n",
       "      <td>39</td>\n",
       "      <td>Bilder 1-3, Lagerbilder, Afrika, Wandbilder, D...</td>\n",
       "      <td>2024-07-31</td>\n",
       "      <td>F/07/1</td>\n",
       "      <td>4251285444683</td>\n",
       "    </tr>\n",
       "    <tr>\n",
       "      <th>3</th>\n",
       "      <td>002151a</td>\n",
       "      <td>35</td>\n",
       "      <td>1</td>\n",
       "      <td>39</td>\n",
       "      <td>Bilder 1-3, Lagerbilder, Afrika, Wandbilder, D...</td>\n",
       "      <td>2024-10-23</td>\n",
       "      <td>H/10/1</td>\n",
       "      <td>4251285444683</td>\n",
       "    </tr>\n",
       "    <tr>\n",
       "      <th>4</th>\n",
       "      <td>002151b</td>\n",
       "      <td>30</td>\n",
       "      <td>0</td>\n",
       "      <td>30</td>\n",
       "      <td>Bilder 1-3, Lagerbilder, Afrika, Wandbilder, D...</td>\n",
       "      <td>2024-10-16</td>\n",
       "      <td>I/04/1</td>\n",
       "      <td>4251285444690</td>\n",
       "    </tr>\n",
       "    <tr>\n",
       "      <th>...</th>\n",
       "      <td>...</td>\n",
       "      <td>...</td>\n",
       "      <td>...</td>\n",
       "      <td>...</td>\n",
       "      <td>...</td>\n",
       "      <td>...</td>\n",
       "      <td>...</td>\n",
       "      <td>...</td>\n",
       "    </tr>\n",
       "    <tr>\n",
       "      <th>346</th>\n",
       "      <td>043712a</td>\n",
       "      <td>46</td>\n",
       "      <td>0</td>\n",
       "      <td>46</td>\n",
       "      <td>Lagerbilder, Wandbilder, Strand, Donnerstag La...</td>\n",
       "      <td>2024-10-11</td>\n",
       "      <td>H/14/3</td>\n",
       "      <td>4061331181994</td>\n",
       "    </tr>\n",
       "    <tr>\n",
       "      <th>347</th>\n",
       "      <td>043714a</td>\n",
       "      <td>47</td>\n",
       "      <td>0</td>\n",
       "      <td>47</td>\n",
       "      <td>Lagerbilder, Wandbilder, Strand, Donnerstag Lager</td>\n",
       "      <td>2024-08-09</td>\n",
       "      <td>E/18/3</td>\n",
       "      <td>4061331181932</td>\n",
       "    </tr>\n",
       "    <tr>\n",
       "      <th>348</th>\n",
       "      <td>044212a</td>\n",
       "      <td>5</td>\n",
       "      <td>1</td>\n",
       "      <td>4</td>\n",
       "      <td>Wandbilder, Blumen</td>\n",
       "      <td>NaT</td>\n",
       "      <td>B/08/3</td>\n",
       "      <td>4061331183585</td>\n",
       "    </tr>\n",
       "    <tr>\n",
       "      <th>349</th>\n",
       "      <td>044512a</td>\n",
       "      <td>3</td>\n",
       "      <td>0</td>\n",
       "      <td>3</td>\n",
       "      <td>Wandbilder, Strand</td>\n",
       "      <td>NaT</td>\n",
       "      <td>B/04/3</td>\n",
       "      <td>4061331183035</td>\n",
       "    </tr>\n",
       "    <tr>\n",
       "      <th>350</th>\n",
       "      <td>043912a</td>\n",
       "      <td>2</td>\n",
       "      <td>0</td>\n",
       "      <td>2</td>\n",
       "      <td>Wandbilder, Blumen</td>\n",
       "      <td>NaT</td>\n",
       "      <td>C/08/3</td>\n",
       "      <td>4061331182922</td>\n",
       "    </tr>\n",
       "  </tbody>\n",
       "</table>\n",
       "<p>351 rows × 8 columns</p>\n",
       "</div>"
      ],
      "text/plain": [
       "      number  quantity  reservedStock  stockNet  \\\n",
       "0    000251a        31              1        31   \n",
       "1    000251a         1              1        31   \n",
       "2    002151a         5              1        39   \n",
       "3    002151a        35              1        39   \n",
       "4    002151b        30              0        30   \n",
       "..       ...       ...            ...       ...   \n",
       "346  043712a        46              0        46   \n",
       "347  043714a        47              0        47   \n",
       "348  044212a         5              1         4   \n",
       "349  044512a         3              0         3   \n",
       "350  043912a         2              0         2   \n",
       "\n",
       "                                          variationTag        MHD  \\\n",
       "0    Bilder 1-3, Lagerbilder, Afrika, Wandbilder, D... 2024-10-06   \n",
       "1    Bilder 1-3, Lagerbilder, Afrika, Wandbilder, D... 2024-11-08   \n",
       "2    Bilder 1-3, Lagerbilder, Afrika, Wandbilder, D... 2024-07-31   \n",
       "3    Bilder 1-3, Lagerbilder, Afrika, Wandbilder, D... 2024-10-23   \n",
       "4    Bilder 1-3, Lagerbilder, Afrika, Wandbilder, D... 2024-10-16   \n",
       "..                                                 ...        ...   \n",
       "346  Lagerbilder, Wandbilder, Strand, Donnerstag La... 2024-10-11   \n",
       "347  Lagerbilder, Wandbilder, Strand, Donnerstag Lager 2024-08-09   \n",
       "348                                 Wandbilder, Blumen        NaT   \n",
       "349                                 Wandbilder, Strand        NaT   \n",
       "350                                 Wandbilder, Blumen        NaT   \n",
       "\n",
       "    LocationName        barcode  \n",
       "0         D/08/1  4260273216737  \n",
       "1         D/10/1  4260273216737  \n",
       "2         F/07/1  4251285444683  \n",
       "3         H/10/1  4251285444683  \n",
       "4         I/04/1  4251285444690  \n",
       "..           ...            ...  \n",
       "346       H/14/3  4061331181994  \n",
       "347       E/18/3  4061331181932  \n",
       "348       B/08/3  4061331183585  \n",
       "349       B/04/3  4061331183035  \n",
       "350       C/08/3  4061331182922  \n",
       "\n",
       "[351 rows x 8 columns]"
      ]
     },
     "execution_count": 85,
     "metadata": {},
     "output_type": "execute_result"
    }
   ],
   "source": [
    "lager = pd.read_csv('https://plenty.runa-art.de/rest/catalogs/export/0b13c8bc-3c19-5677-843b-24c4cd883cc8/download/public?extension=csv',sep=',', dtype={'barcode':str}, parse_dates=['MHD'])\n",
    "lager"
   ]
  },
  {
   "cell_type": "code",
   "execution_count": 50,
   "metadata": {},
   "outputs": [
    {
     "data": {
      "text/html": [
       "<div>\n",
       "<style scoped>\n",
       "    .dataframe tbody tr th:only-of-type {\n",
       "        vertical-align: middle;\n",
       "    }\n",
       "\n",
       "    .dataframe tbody tr th {\n",
       "        vertical-align: top;\n",
       "    }\n",
       "\n",
       "    .dataframe thead th {\n",
       "        text-align: right;\n",
       "    }\n",
       "</style>\n",
       "<table border=\"1\" class=\"dataframe\">\n",
       "  <thead>\n",
       "    <tr style=\"text-align: right;\">\n",
       "      <th></th>\n",
       "      <th>number</th>\n",
       "      <th>quantity</th>\n",
       "      <th>reservedStock</th>\n",
       "      <th>stockNet</th>\n",
       "      <th>variationTag</th>\n",
       "      <th>MHD</th>\n",
       "      <th>LocationName</th>\n",
       "      <th>barcode</th>\n",
       "    </tr>\n",
       "  </thead>\n",
       "  <tbody>\n",
       "    <tr>\n",
       "      <th>331</th>\n",
       "      <td>043531a</td>\n",
       "      <td>0</td>\n",
       "      <td>0</td>\n",
       "      <td>0</td>\n",
       "      <td>Lagerbilder, A Farbe only, Wandbilder, Banksy,...</td>\n",
       "      <td>NaN</td>\n",
       "      <td>Default storage location</td>\n",
       "      <td>4061331181772</td>\n",
       "    </tr>\n",
       "  </tbody>\n",
       "</table>\n",
       "</div>"
      ],
      "text/plain": [
       "      number  quantity  reservedStock  stockNet  \\\n",
       "331  043531a         0              0         0   \n",
       "\n",
       "                                          variationTag  MHD  \\\n",
       "331  Lagerbilder, A Farbe only, Wandbilder, Banksy,...  NaN   \n",
       "\n",
       "                 LocationName        barcode  \n",
       "331  Default storage location  4061331181772  "
      ]
     },
     "execution_count": 50,
     "metadata": {},
     "output_type": "execute_result"
    }
   ],
   "source": [
    "lager[lager['number'] == '043531a']"
   ]
  },
  {
   "cell_type": "code",
   "execution_count": 86,
   "metadata": {},
   "outputs": [],
   "source": [
    "lager = lager.dropna(axis=0, subset='variationTag')"
   ]
  },
  {
   "cell_type": "code",
   "execution_count": 87,
   "metadata": {},
   "outputs": [],
   "source": [
    "lagerbilder = lager[lager['variationTag'].str.contains('Lagerbilder')]"
   ]
  },
  {
   "cell_type": "code",
   "execution_count": 95,
   "metadata": {},
   "outputs": [],
   "source": [
    "ean = '4061331014728'\n",
    "lager_scaned = lagerbilder[lagerbilder['barcode'] == ean]"
   ]
  },
  {
   "cell_type": "code",
   "execution_count": 89,
   "metadata": {},
   "outputs": [],
   "source": [
    "lager_scaned = lager_scaned.sort_values('MHD')"
   ]
  },
  {
   "cell_type": "code",
   "execution_count": 90,
   "metadata": {},
   "outputs": [],
   "source": [
    "lager_scaned['MHD'] = lager_scaned['MHD'].dt.strftime('%d.%m.%Y')"
   ]
  },
  {
   "cell_type": "code",
   "execution_count": 91,
   "metadata": {},
   "outputs": [
    {
     "data": {
      "text/html": [
       "<div>\n",
       "<style scoped>\n",
       "    .dataframe tbody tr th:only-of-type {\n",
       "        vertical-align: middle;\n",
       "    }\n",
       "\n",
       "    .dataframe tbody tr th {\n",
       "        vertical-align: top;\n",
       "    }\n",
       "\n",
       "    .dataframe thead th {\n",
       "        text-align: right;\n",
       "    }\n",
       "</style>\n",
       "<table border=\"1\" class=\"dataframe\">\n",
       "  <thead>\n",
       "    <tr style=\"text-align: right;\">\n",
       "      <th></th>\n",
       "      <th>number</th>\n",
       "      <th>quantity</th>\n",
       "      <th>reservedStock</th>\n",
       "      <th>stockNet</th>\n",
       "      <th>variationTag</th>\n",
       "      <th>MHD</th>\n",
       "      <th>LocationName</th>\n",
       "      <th>barcode</th>\n",
       "    </tr>\n",
       "  </thead>\n",
       "  <tbody>\n",
       "    <tr>\n",
       "      <th>328</th>\n",
       "      <td>043555a</td>\n",
       "      <td>9</td>\n",
       "      <td>1</td>\n",
       "      <td>43</td>\n",
       "      <td>Lagerbilder, A Farbe only, Wandbilder, Banksy,...</td>\n",
       "      <td>25.09.2024</td>\n",
       "      <td>I/07/1</td>\n",
       "      <td>4061331181802</td>\n",
       "    </tr>\n",
       "    <tr>\n",
       "      <th>329</th>\n",
       "      <td>043555a</td>\n",
       "      <td>35</td>\n",
       "      <td>1</td>\n",
       "      <td>43</td>\n",
       "      <td>Lagerbilder, A Farbe only, Wandbilder, Banksy,...</td>\n",
       "      <td>18.10.2024</td>\n",
       "      <td>I/10/1</td>\n",
       "      <td>4061331181802</td>\n",
       "    </tr>\n",
       "  </tbody>\n",
       "</table>\n",
       "</div>"
      ],
      "text/plain": [
       "      number  quantity  reservedStock  stockNet  \\\n",
       "328  043555a         9              1        43   \n",
       "329  043555a        35              1        43   \n",
       "\n",
       "                                          variationTag         MHD  \\\n",
       "328  Lagerbilder, A Farbe only, Wandbilder, Banksy,...  25.09.2024   \n",
       "329  Lagerbilder, A Farbe only, Wandbilder, Banksy,...  18.10.2024   \n",
       "\n",
       "    LocationName        barcode  \n",
       "328       I/07/1  4061331181802  \n",
       "329       I/10/1  4061331181802  "
      ]
     },
     "execution_count": 91,
     "metadata": {},
     "output_type": "execute_result"
    }
   ],
   "source": [
    "lager_scaned"
   ]
  },
  {
   "cell_type": "code",
   "execution_count": 54,
   "metadata": {},
   "outputs": [
    {
     "name": "stdout",
     "output_type": "stream",
     "text": [
      "SKU: 000251a\n",
      " - 31 St. in D/08/1 - MHD: 2024-10-06\n",
      " - 1 St. in D/10/1 - MHD: 2024-11-08\n"
     ]
    }
   ],
   "source": [
    "for sku in lager_scaned['number'].unique(): print(\"SKU: \" + sku)\n",
    "for i, r in lager_scaned.iterrows():\n",
    "           print(\" - \" + str(r['quantity']) + \" St.\" + \" in \" + r['LocationName'] + \" - MHD: \" + r['MHD'])"
   ]
  },
  {
   "cell_type": "code",
   "execution_count": 98,
   "metadata": {},
   "outputs": [],
   "source": [
    "sales = pd.read_csv('sales_last_6_m.csv', sep=';', dtype={'barcode':str})"
   ]
  },
  {
   "cell_type": "code",
   "execution_count": 99,
   "metadata": {},
   "outputs": [],
   "source": [
    "whouse = sales.merge(lager, how='left',left_on='sku', right_on='number', indicator=True)"
   ]
  },
  {
   "cell_type": "code",
   "execution_count": 102,
   "metadata": {},
   "outputs": [
    {
     "ename": "KeyError",
     "evalue": "'_merge'",
     "output_type": "error",
     "traceback": [
      "\u001b[0;31m---------------------------------------------------------------------------\u001b[0m",
      "\u001b[0;31mKeyError\u001b[0m                                  Traceback (most recent call last)",
      "File \u001b[0;32m~/.local/lib/python3.11/site-packages/pandas/core/indexes/base.py:3790\u001b[0m, in \u001b[0;36mIndex.get_loc\u001b[0;34m(self, key)\u001b[0m\n\u001b[1;32m   3789\u001b[0m \u001b[39mtry\u001b[39;00m:\n\u001b[0;32m-> 3790\u001b[0m     \u001b[39mreturn\u001b[39;00m \u001b[39mself\u001b[39;49m\u001b[39m.\u001b[39;49m_engine\u001b[39m.\u001b[39;49mget_loc(casted_key)\n\u001b[1;32m   3791\u001b[0m \u001b[39mexcept\u001b[39;00m \u001b[39mKeyError\u001b[39;00m \u001b[39mas\u001b[39;00m err:\n",
      "File \u001b[0;32mindex.pyx:152\u001b[0m, in \u001b[0;36mpandas._libs.index.IndexEngine.get_loc\u001b[0;34m()\u001b[0m\n",
      "File \u001b[0;32mindex.pyx:181\u001b[0m, in \u001b[0;36mpandas._libs.index.IndexEngine.get_loc\u001b[0;34m()\u001b[0m\n",
      "File \u001b[0;32mpandas/_libs/hashtable_class_helper.pxi:7080\u001b[0m, in \u001b[0;36mpandas._libs.hashtable.PyObjectHashTable.get_item\u001b[0;34m()\u001b[0m\n",
      "File \u001b[0;32mpandas/_libs/hashtable_class_helper.pxi:7088\u001b[0m, in \u001b[0;36mpandas._libs.hashtable.PyObjectHashTable.get_item\u001b[0;34m()\u001b[0m\n",
      "\u001b[0;31mKeyError\u001b[0m: '_merge'",
      "\nThe above exception was the direct cause of the following exception:\n",
      "\u001b[0;31mKeyError\u001b[0m                                  Traceback (most recent call last)",
      "\u001b[1;32m/workspaces/check_sku_app/test.ipynb Zelle 13\u001b[0m line \u001b[0;36m1\n\u001b[0;32m----> <a href='vscode-notebook-cell://codespaces%2Bobscure-telegram-v9vv49r6vp93x6w6/workspaces/check_sku_app/test.ipynb#X12sdnNjb2RlLXJlbW90ZQ%3D%3D?line=0'>1</a>\u001b[0m whouse \u001b[39m=\u001b[39m whouse[whouse[\u001b[39m'\u001b[39;49m\u001b[39m_merge\u001b[39;49m\u001b[39m'\u001b[39;49m] \u001b[39m==\u001b[39m \u001b[39m'\u001b[39m\u001b[39mleft_only\u001b[39m\u001b[39m'\u001b[39m][[\u001b[39m'\u001b[39m\u001b[39msku\u001b[39m\u001b[39m'\u001b[39m,\u001b[39m'\u001b[39m\u001b[39mbarcode_x\u001b[39m\u001b[39m'\u001b[39m]]\n",
      "File \u001b[0;32m~/.local/lib/python3.11/site-packages/pandas/core/frame.py:3896\u001b[0m, in \u001b[0;36mDataFrame.__getitem__\u001b[0;34m(self, key)\u001b[0m\n\u001b[1;32m   3894\u001b[0m \u001b[39mif\u001b[39;00m \u001b[39mself\u001b[39m\u001b[39m.\u001b[39mcolumns\u001b[39m.\u001b[39mnlevels \u001b[39m>\u001b[39m \u001b[39m1\u001b[39m:\n\u001b[1;32m   3895\u001b[0m     \u001b[39mreturn\u001b[39;00m \u001b[39mself\u001b[39m\u001b[39m.\u001b[39m_getitem_multilevel(key)\n\u001b[0;32m-> 3896\u001b[0m indexer \u001b[39m=\u001b[39m \u001b[39mself\u001b[39;49m\u001b[39m.\u001b[39;49mcolumns\u001b[39m.\u001b[39;49mget_loc(key)\n\u001b[1;32m   3897\u001b[0m \u001b[39mif\u001b[39;00m is_integer(indexer):\n\u001b[1;32m   3898\u001b[0m     indexer \u001b[39m=\u001b[39m [indexer]\n",
      "File \u001b[0;32m~/.local/lib/python3.11/site-packages/pandas/core/indexes/base.py:3797\u001b[0m, in \u001b[0;36mIndex.get_loc\u001b[0;34m(self, key)\u001b[0m\n\u001b[1;32m   3792\u001b[0m     \u001b[39mif\u001b[39;00m \u001b[39misinstance\u001b[39m(casted_key, \u001b[39mslice\u001b[39m) \u001b[39mor\u001b[39;00m (\n\u001b[1;32m   3793\u001b[0m         \u001b[39misinstance\u001b[39m(casted_key, abc\u001b[39m.\u001b[39mIterable)\n\u001b[1;32m   3794\u001b[0m         \u001b[39mand\u001b[39;00m \u001b[39many\u001b[39m(\u001b[39misinstance\u001b[39m(x, \u001b[39mslice\u001b[39m) \u001b[39mfor\u001b[39;00m x \u001b[39min\u001b[39;00m casted_key)\n\u001b[1;32m   3795\u001b[0m     ):\n\u001b[1;32m   3796\u001b[0m         \u001b[39mraise\u001b[39;00m InvalidIndexError(key)\n\u001b[0;32m-> 3797\u001b[0m     \u001b[39mraise\u001b[39;00m \u001b[39mKeyError\u001b[39;00m(key) \u001b[39mfrom\u001b[39;00m \u001b[39merr\u001b[39;00m\n\u001b[1;32m   3798\u001b[0m \u001b[39mexcept\u001b[39;00m \u001b[39mTypeError\u001b[39;00m:\n\u001b[1;32m   3799\u001b[0m     \u001b[39m# If we have a listlike key, _check_indexing_error will raise\u001b[39;00m\n\u001b[1;32m   3800\u001b[0m     \u001b[39m#  InvalidIndexError. Otherwise we fall through and re-raise\u001b[39;00m\n\u001b[1;32m   3801\u001b[0m     \u001b[39m#  the TypeError.\u001b[39;00m\n\u001b[1;32m   3802\u001b[0m     \u001b[39mself\u001b[39m\u001b[39m.\u001b[39m_check_indexing_error(key)\n",
      "\u001b[0;31mKeyError\u001b[0m: '_merge'"
     ]
    }
   ],
   "source": [
    "whouse = whouse[whouse['_merge'] == 'left_only'][['sku','barcode_x']]"
   ]
  },
  {
   "cell_type": "code",
   "execution_count": 104,
   "metadata": {},
   "outputs": [],
   "source": [
    "whouse_scaned = whouse[whouse['barcode_x'] == ean]"
   ]
  },
  {
   "cell_type": "code",
   "execution_count": 105,
   "metadata": {},
   "outputs": [
    {
     "data": {
      "text/html": [
       "<div>\n",
       "<style scoped>\n",
       "    .dataframe tbody tr th:only-of-type {\n",
       "        vertical-align: middle;\n",
       "    }\n",
       "\n",
       "    .dataframe tbody tr th {\n",
       "        vertical-align: top;\n",
       "    }\n",
       "\n",
       "    .dataframe thead th {\n",
       "        text-align: right;\n",
       "    }\n",
       "</style>\n",
       "<table border=\"1\" class=\"dataframe\">\n",
       "  <thead>\n",
       "    <tr style=\"text-align: right;\">\n",
       "      <th></th>\n",
       "      <th>sku</th>\n",
       "      <th>barcode_x</th>\n",
       "    </tr>\n",
       "  </thead>\n",
       "  <tbody>\n",
       "    <tr>\n",
       "      <th>211</th>\n",
       "      <td>012955c</td>\n",
       "      <td>4061331014728</td>\n",
       "    </tr>\n",
       "  </tbody>\n",
       "</table>\n",
       "</div>"
      ],
      "text/plain": [
       "         sku      barcode_x\n",
       "211  012955c  4061331014728"
      ]
     },
     "execution_count": 105,
     "metadata": {},
     "output_type": "execute_result"
    }
   ],
   "source": [
    "whouse_scaned"
   ]
  },
  {
   "cell_type": "code",
   "execution_count": 106,
   "metadata": {},
   "outputs": [
    {
     "name": "stdout",
     "output_type": "stream",
     "text": [
      "SKU 012955c in Zapas\n"
     ]
    }
   ],
   "source": [
    "if ean in whouse_scaned['barcode_x'].tolist():\n",
    "        for sku in whouse_scaned['sku'].unique(): print('SKU ' + sku + ' in Zapas')\n",
    "else: print(\"Error\")"
   ]
  },
  {
   "cell_type": "code",
   "execution_count": 97,
   "metadata": {},
   "outputs": [
    {
     "data": {
      "text/plain": [
       "[4061331037697,\n",
       " 4260349655484,\n",
       " 4061331039554,\n",
       " 4061331096274,\n",
       " 4061331173180,\n",
       " 4061331005627,\n",
       " 4061331175801,\n",
       " 4061331176136,\n",
       " 4260442281580,\n",
       " 4251285400306,\n",
       " 4061331041885,\n",
       " 4061331173906,\n",
       " 4061331176082,\n",
       " 4061331182106,\n",
       " 4251285495234,\n",
       " 4061331042073,\n",
       " 4061331107819,\n",
       " 4061331177317,\n",
       " 4061331041878,\n",
       " 4061331014728,\n",
       " 4061331125806,\n",
       " 4061331002534,\n",
       " 4061331173623,\n",
       " 4260442281535,\n",
       " 4260442281658,\n",
       " 4061331107581,\n",
       " 4061331182472,\n",
       " 4061331017170,\n",
       " 4061331089238,\n",
       " 4061331173920,\n",
       " 4061331020330,\n",
       " 4251285487727,\n",
       " 4251285411388,\n",
       " 4061331017286]"
      ]
     },
     "execution_count": 97,
     "metadata": {},
     "output_type": "execute_result"
    }
   ],
   "source": [
    "whouse['barcode_x'].tolist()"
   ]
  },
  {
   "cell_type": "code",
   "execution_count": null,
   "metadata": {},
   "outputs": [],
   "source": []
  }
 ],
 "metadata": {
  "kernelspec": {
   "display_name": "Python 3",
   "language": "python",
   "name": "python3"
  },
  "language_info": {
   "codemirror_mode": {
    "name": "ipython",
    "version": 3
   },
   "file_extension": ".py",
   "mimetype": "text/x-python",
   "name": "python",
   "nbconvert_exporter": "python",
   "pygments_lexer": "ipython3",
   "version": "3.11.6"
  }
 },
 "nbformat": 4,
 "nbformat_minor": 2
}
